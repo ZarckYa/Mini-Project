{
 "cells": [
  {
   "cell_type": "code",
   "execution_count": 1,
   "metadata": {
    "scrolled": true
   },
   "outputs": [
    {
     "name": "stdout",
     "output_type": "stream",
     "text": [
      "Running Scanpy 1.4 on 2019-08-09 15:42.\n"
     ]
    }
   ],
   "source": [
    "%load_ext autoreload\n",
    "%autoreload 2\n",
    "\n",
    "import logging\n",
    "import matplotlib.pyplot as plt\n",
    "import numpy as np\n",
    "import os\n",
    "import pandas\n",
    "import pickle\n",
    "import scanpy.api as sc\n",
    "import scipy\n",
    "import seaborn as sns\n",
    "from sklearn import decomposition\n",
    "import time\n",
    "import umap\n",
    "\n",
    "datadir = '.'\n",
    "outdir = '.'\n",
    "figir = '.'\n",
    "\n",
    "sc.logging.print_version_and_date()\n",
    "sc.settings.verbosity = 3"
   ]
  },
  {
   "cell_type": "code",
   "execution_count": 2,
   "metadata": {},
   "outputs": [],
   "source": [
    "import matplotlib.pylab as pylab\n",
    "params = {\n",
    "    'legend.fontsize': 'x-large',\n",
    "    'axes.labelsize': 'x-large',\n",
    "    'axes.titlesize':'x-large',\n",
    "    'xtick.labelsize':'x-large',\n",
    "    'ytick.labelsize':'x-large'\n",
    "}\n",
    "pylab.rcParams.update(params)"
   ]
  },
  {
   "cell_type": "markdown",
   "metadata": {},
   "source": [
    "This notebook contains an overview of the VDJdb dataset."
   ]
  },
  {
   "cell_type": "markdown",
   "metadata": {},
   "source": [
    "This notebook creates the panels:\n",
    "    - Fig. 4d"
   ]
  },
  {
   "cell_type": "markdown",
   "metadata": {},
   "source": [
    "# Read data"
   ]
  },
  {
   "cell_type": "markdown",
   "metadata": {},
   "source": [
    "Read observed TCRs:"
   ]
  },
  {
   "cell_type": "code",
   "execution_count": 3,
   "metadata": {
    "scrolled": true
   },
   "outputs": [
    {
     "name": "stderr",
     "output_type": "stream",
     "text": [
      "/Users/david.fischer/miniconda3/lib/python3.6/site-packages/ipykernel_launcher.py:1: FutureWarning: read_table is deprecated, use read_csv instead, passing sep='\\t'.\n",
      "  \"\"\"Entry point for launching an IPython kernel.\n"
     ]
    }
   ],
   "source": [
    "vdjdb = pandas.read_table(datadir+\"VDJdb.tsv\").fillna(value=\"None\")\n",
    "vdjdb = vdjdb.loc[vdjdb[\"Gene\"].values == \"TRB\", :]\n",
    "vdjdb_trb = vdjdb[\"CDR3\"].values\n",
    "vdjdb_antigen = vdjdb[\"Epitope\"].values"
   ]
  },
  {
   "cell_type": "markdown",
   "metadata": {},
   "source": [
    "Take out None observations:"
   ]
  },
  {
   "cell_type": "code",
   "execution_count": 4,
   "metadata": {},
   "outputs": [],
   "source": [
    "idx_to_keep = np.where(np.logical_and(\n",
    "    [x.lower() != \"none\" for x in vdjdb_trb],\n",
    "    [x.lower() != \"none\" for x in vdjdb_antigen]\n",
    "))[0]\n",
    "vdjdb_trb = vdjdb_trb[idx_to_keep]\n",
    "vdjdb_antigen = vdjdb_antigen[idx_to_keep]"
   ]
  },
  {
   "cell_type": "code",
   "execution_count": 5,
   "metadata": {
    "scrolled": true
   },
   "outputs": [
    {
     "name": "stdout",
     "output_type": "stream",
     "text": [
      "Number of TRBs in data base: 3964\n"
     ]
    }
   ],
   "source": [
    "print(\"Number of TRBs in data base: %i\" % len(vdjdb_trb))"
   ]
  },
  {
   "cell_type": "markdown",
   "metadata": {},
   "source": [
    "# Explore chain observations by complexes"
   ]
  },
  {
   "cell_type": "markdown",
   "metadata": {},
   "source": [
    "TRB chains from the same complex:"
   ]
  },
  {
   "cell_type": "code",
   "execution_count": 6,
   "metadata": {},
   "outputs": [
    {
     "data": {
      "text/plain": [
       "1422"
      ]
     },
     "execution_count": 6,
     "metadata": {},
     "output_type": "execute_result"
    }
   ],
   "source": [
    "len(np.unique(vdjdb.iloc[idx_to_keep, :][\"complex.id\"].values))"
   ]
  },
  {
   "cell_type": "code",
   "execution_count": 7,
   "metadata": {},
   "outputs": [],
   "source": [
    "trb_in_complex_freq = pandas.DataFrame({\"x\": vdjdb.iloc[idx_to_keep, :][\"complex.id\"]})[\"x\"].value_counts().values"
   ]
  },
  {
   "cell_type": "code",
   "execution_count": 8,
   "metadata": {},
   "outputs": [
    {
     "data": {
      "text/plain": [
       "array([   0,    1,    2, ..., 4132, 4133, 4134])"
      ]
     },
     "execution_count": 8,
     "metadata": {},
     "output_type": "execute_result"
    }
   ],
   "source": [
    "np.unique(vdjdb.iloc[idx_to_keep, :][\"complex.id\"].values)"
   ]
  },
  {
   "cell_type": "code",
   "execution_count": 9,
   "metadata": {},
   "outputs": [
    {
     "data": {
      "text/plain": [
       "1       1421\n",
       "2543       1\n",
       "Name: x, dtype: int64"
      ]
     },
     "execution_count": 9,
     "metadata": {},
     "output_type": "execute_result"
    }
   ],
   "source": [
    "pandas.DataFrame({\"x\": trb_in_complex_freq})[\"x\"].value_counts().sort_index()"
   ]
  },
  {
   "cell_type": "markdown",
   "metadata": {},
   "source": [
    "# Assign TRBs to clonotypes"
   ]
  },
  {
   "cell_type": "markdown",
   "metadata": {},
   "source": [
    "## Explore heterogeneity"
   ]
  },
  {
   "cell_type": "code",
   "execution_count": 10,
   "metadata": {},
   "outputs": [],
   "source": [
    "def format_one_hot(\n",
    "        x: list\n",
    ") -> np.ndarray:\n",
    "    \"\"\"\n",
    "    :param x: Input as list (length observations) of lists with strings of amino acid code of each chain.\n",
    "    :return: 3D tensor [observations, amino acid position, amino acid embedding]\n",
    "        One-hot encoded input.\n",
    "    \"\"\"\n",
    "    aa_list = [\n",
    "        'C', 'D', 'S', 'Q', 'K',\n",
    "        'I', 'P', 'T', 'F', 'N',\n",
    "        'G', 'H', 'L', 'R', 'W',\n",
    "        'A', 'V', 'E', 'Y', 'M',\n",
    "        '_'\n",
    "    ]\n",
    "    idx_list = np.arange(0, len(aa_list))\n",
    "    dict_aa = dict(zip(aa_list, idx_list))\n",
    "    dim_aa = len(dict_aa)\n",
    "    \n",
    "    # Remove sequences that contain amino acids that are not in list.\n",
    "    keys_not_accounted_for = []\n",
    "    x_clean = []\n",
    "    for xx in x:\n",
    "        if np.any([aa not in aa_list for aa in xx]):\n",
    "            keys_not_accounted_for.extend([aa for aa in xx if aa not in aa_list])\n",
    "        else:\n",
    "            x_clean.append(xx)\n",
    "    print(np.unique(np.array(keys_not_accounted_for)))\n",
    "    \n",
    "    dim_obs = len(x_clean)\n",
    "    dim_pos = np.max([len(xi) for xi in x_clean])\n",
    "    x_onehot = np.zeros([dim_obs, dim_pos, dim_aa])  # Second last dimension to use conv2d\n",
    "    for i, xi in enumerate(x_clean):\n",
    "        # Strip of empty space.\n",
    "        xi = \"\".join(xi.split(\" \"))\n",
    "        # Write missing string if chain not found.\n",
    "        for k, aa in enumerate(xi):\n",
    "            x_onehot[i, k, dict_aa[aa]] = 1\n",
    "        # Fill remaining positions as None.\n",
    "        for k in np.arange(len(xi), dim_pos):\n",
    "            x_onehot[i, k, dict_aa['_']] = 1\n",
    "\n",
    "    return x_onehot, x_clean, keys_not_accounted_for"
   ]
  },
  {
   "cell_type": "markdown",
   "metadata": {},
   "source": [
    "Compute amino-acid embedding:"
   ]
  },
  {
   "cell_type": "code",
   "execution_count": 11,
   "metadata": {},
   "outputs": [
    {
     "name": "stdout",
     "output_type": "stream",
     "text": [
      "[]\n"
     ]
    }
   ],
   "source": [
    "vdjdb_trb_oh, vdjdb_trb_clean, keys_not_accounted_for = format_one_hot(vdjdb_trb)"
   ]
  },
  {
   "cell_type": "code",
   "execution_count": 12,
   "metadata": {},
   "outputs": [
    {
     "name": "stdout",
     "output_type": "stream",
     "text": [
      "3964 out of 3964 TRB observations retained.\n"
     ]
    }
   ],
   "source": [
    "print(\"%i out of %i TRB observations retained.\" % (vdjdb_trb_oh.shape[0], len(vdjdb_trb)))"
   ]
  },
  {
   "cell_type": "markdown",
   "metadata": {},
   "source": [
    "Compute all-to-all manhatten distance matrix:"
   ]
  },
  {
   "cell_type": "code",
   "execution_count": 13,
   "metadata": {},
   "outputs": [],
   "source": [
    "vdjdb_trb_oh_dist = (vdjdb_trb_oh-0.5)*2  # -1, 1 encoding\n",
    "trb_dist = (vdjdb_trb_oh.shape[1]*vdjdb_trb_oh.shape[2] - np.matmul(\n",
    "    np.reshape(vdjdb_trb_oh_dist, newshape=[vdjdb_trb_oh_dist.shape[0], -1]),\n",
    "    np.reshape(vdjdb_trb_oh_dist, newshape=[vdjdb_trb_oh_dist.shape[0], -1]).T,\n",
    "))/(2*2)\n",
    "trb_dist[(np.arange(0, trb_dist.shape[0]), np.arange(0, trb_dist.shape[0]))] = np.nan"
   ]
  },
  {
   "cell_type": "code",
   "execution_count": 14,
   "metadata": {
    "scrolled": true
   },
   "outputs": [
    {
     "data": {
      "text/plain": [
       "<matplotlib.axes._subplots.AxesSubplot at 0x1c236204e0>"
      ]
     },
     "execution_count": 14,
     "metadata": {},
     "output_type": "execute_result"
    },
    {
     "data": {
      "image/png": "[encoded data removed]",
      "text/plain": [
       "<Figure size 432x288 with 1 Axes>"
      ]
     },
     "metadata": {
      "needs_background": "light"
     },
     "output_type": "display_data"
    }
   ],
   "source": [
    "sns.distplot(\n",
    "    trb_dist[np.triu_indices(trb_dist.shape[0], k=1)], \n",
    "    kde=False\n",
    ")"
   ]
  },
  {
   "cell_type": "markdown",
   "metadata": {},
   "source": [
    "Look at distance to closest neighbours:"
   ]
  },
  {
   "cell_type": "code",
   "execution_count": 15,
   "metadata": {},
   "outputs": [
    {
     "data": {
      "text/plain": [
       "<matplotlib.axes._subplots.AxesSubplot at 0x1c22ff5390>"
      ]
     },
     "execution_count": 15,
     "metadata": {},
     "output_type": "execute_result"
    },
    {
     "data": {
      "image/png": "[encoded data removed]",
      "text/plain": [
       "<Figure size 432x288 with 1 Axes>"
      ]
     },
     "metadata": {
      "needs_background": "light"
     },
     "output_type": "display_data"
    }
   ],
   "source": [
    "sns_data_nn = pandas.DataFrame({\"neighbour0\": np.nanmin(trb_dist, axis=1)})\n",
    "sns.distplot(a=sns_data_nn[\"neighbour0\"].values, kde=False)"
   ]
  },
  {
   "cell_type": "code",
   "execution_count": 16,
   "metadata": {
    "scrolled": true
   },
   "outputs": [
    {
     "data": {
      "text/plain": [
       "0.0     1562\n",
       "1.0      581\n",
       "3.0      516\n",
       "2.0      507\n",
       "4.0      408\n",
       "5.0      194\n",
       "6.0      104\n",
       "7.0       41\n",
       "8.0       33\n",
       "9.0        7\n",
       "12.0       4\n",
       "10.0       4\n",
       "13.0       2\n",
       "11.0       1\n",
       "Name: neighbour0, dtype: int64"
      ]
     },
     "execution_count": 16,
     "metadata": {},
     "output_type": "execute_result"
    }
   ],
   "source": [
    "sns_data_nn[\"neighbour0\"].value_counts()"
   ]
  },
  {
   "cell_type": "markdown",
   "metadata": {},
   "source": [
    "### Distance metric validation"
   ]
  },
  {
   "cell_type": "markdown",
   "metadata": {},
   "source": [
    "Look at an example case for validation of the steps above:"
   ]
  },
  {
   "cell_type": "code",
   "execution_count": 17,
   "metadata": {},
   "outputs": [
    {
     "name": "stdout",
     "output_type": "stream",
     "text": [
      "CASSSGQLTNTEAFF\n",
      "CASSTGQLTNTEAFF\n"
     ]
    }
   ],
   "source": [
    "d = 1\n",
    "idx_sample = np.concatenate(np.expand_dims(np.where(trb_dist == d), axis=0), axis=0)\n",
    "print(vdjdb_trb_clean[idx_sample[0, 0]])\n",
    "print(vdjdb_trb_clean[idx_sample[1, 0]])"
   ]
  },
  {
   "cell_type": "code",
   "execution_count": 18,
   "metadata": {},
   "outputs": [
    {
     "name": "stdout",
     "output_type": "stream",
     "text": [
      "CSARDRTGNGYTF\n",
      "CSARDRTGNTIYF\n"
     ]
    }
   ],
   "source": [
    "d = 3\n",
    "idx_sample = np.concatenate(np.expand_dims(np.where(trb_dist == d), axis=0), axis=0)\n",
    "print(vdjdb_trb_clean[idx_sample[0, 0]])\n",
    "print(vdjdb_trb_clean[idx_sample[1, 0]])"
   ]
  },
  {
   "cell_type": "markdown",
   "metadata": {},
   "source": [
    "## Define clonotypes"
   ]
  },
  {
   "cell_type": "markdown",
   "metadata": {},
   "source": [
    "Define clonotypes based on perfect sequence match."
   ]
  },
  {
   "cell_type": "code",
   "execution_count": 19,
   "metadata": {},
   "outputs": [],
   "source": [
    "clonotypes = np.zeros([trb_dist.shape[0]], int)\n",
    "clonotype_counter = 0\n",
    "for i in range(trb_dist.shape[0]):\n",
    "    matches = np.where(trb_dist[i, :i] == 0)[0]\n",
    "    if len(matches) > 0:\n",
    "        clonotypes[i] = clonotypes[matches[0]]\n",
    "    else:\n",
    "        clonotypes[i] = clonotype_counter\n",
    "        clonotype_counter = clonotype_counter + 1"
   ]
  },
  {
   "cell_type": "markdown",
   "metadata": {},
   "source": [
    "### Explore size of clonotypes"
   ]
  },
  {
   "cell_type": "markdown",
   "metadata": {},
   "source": [
    "Compute frequency of each clonotype:"
   ]
  },
  {
   "cell_type": "code",
   "execution_count": 20,
   "metadata": {},
   "outputs": [],
   "source": [
    "clonotype_freq = pandas.DataFrame({\"x\": clonotypes})[\"x\"].value_counts().values"
   ]
  },
  {
   "cell_type": "code",
   "execution_count": 21,
   "metadata": {
    "scrolled": false
   },
   "outputs": [
    {
     "data": {
      "text/plain": [
       "<matplotlib.axes._subplots.AxesSubplot at 0x114e4b780>"
      ]
     },
     "execution_count": 21,
     "metadata": {},
     "output_type": "execute_result"
    },
    {
     "data": {
      "image/png": "[encoded data removed]",
      "text/plain": [
       "<Figure size 432x288 with 1 Axes>"
      ]
     },
     "metadata": {
      "needs_background": "light"
     },
     "output_type": "display_data"
    }
   ],
   "source": [
    "sns.distplot(a=clonotype_freq, kde=False)"
   ]
  },
  {
   "cell_type": "markdown",
   "metadata": {},
   "source": [
    "Compute the frequency table of clonotype frequencies (information corresponding to the histogram above):"
   ]
  },
  {
   "cell_type": "code",
   "execution_count": 22,
   "metadata": {
    "scrolled": true
   },
   "outputs": [
    {
     "data": {
      "text/plain": [
       "1      2402\n",
       "2       267\n",
       "3        66\n",
       "4        25\n",
       "5        12\n",
       "6         8\n",
       "7         5\n",
       "8         2\n",
       "9         3\n",
       "10        2\n",
       "11        2\n",
       "12        2\n",
       "13        1\n",
       "14        1\n",
       "16        1\n",
       "17        3\n",
       "19        1\n",
       "20        1\n",
       "21        1\n",
       "23        1\n",
       "24        1\n",
       "25        2\n",
       "28        1\n",
       "64        1\n",
       "135       1\n",
       "Name: x, dtype: int64"
      ]
     },
     "execution_count": 22,
     "metadata": {},
     "output_type": "execute_result"
    }
   ],
   "source": [
    "pandas.DataFrame({\"x\": clonotype_freq})[\"x\"].value_counts().sort_index()"
   ]
  },
  {
   "cell_type": "code",
   "execution_count": 23,
   "metadata": {},
   "outputs": [
    {
     "name": "stdout",
     "output_type": "stream",
     "text": [
      "total number of clonotypes: 2812\n"
     ]
    }
   ],
   "source": [
    "print(\"total number of clonotypes: %i\" % len(np.unique(clonotypes)))"
   ]
  },
  {
   "cell_type": "markdown",
   "metadata": {},
   "source": [
    "# Data set size if clonotypes are downsampled"
   ]
  },
  {
   "cell_type": "code",
   "execution_count": 24,
   "metadata": {},
   "outputs": [],
   "source": [
    "def downsample_clono(assignments, max_per_clono):\n",
    "    clonotypes = np.unique(assignments)\n",
    "    n_cells = assignments.shape[0]\n",
    "    idx_to_keep = np.concatenate([np.random.choice(\n",
    "        a=np.arange(0, n_cells)[assignments == x],\n",
    "        size=np.min([max_per_clono, np.sum(assignments == x)]),\n",
    "        replace=False\n",
    "    ) for x in np.unique(assignments)], axis=0)\n",
    "    print(\"data set size downsampled to 10 cells per clonotypes reduces from %i to %i\" % (len(assignments), len(idx_to_keep)))\n",
    "    return len(assignments), len(idx_to_keep)"
   ]
  },
  {
   "cell_type": "code",
   "execution_count": 25,
   "metadata": {},
   "outputs": [
    {
     "name": "stdout",
     "output_type": "stream",
     "text": [
      "data set size downsampled to 10 cells per clonotypes reduces from 3964 to 3640\n"
     ]
    }
   ],
   "source": [
    "_ = downsample_clono(assignments=clonotypes, max_per_clono=10)"
   ]
  },
  {
   "cell_type": "markdown",
   "metadata": {},
   "source": [
    "# Explore antigen heterogeneity"
   ]
  },
  {
   "cell_type": "code",
   "execution_count": 26,
   "metadata": {},
   "outputs": [],
   "source": [
    "antigen_freq = pandas.DataFrame({\"x\": vdjdb_antigen})[\"x\"].value_counts().values"
   ]
  },
  {
   "cell_type": "code",
   "execution_count": 27,
   "metadata": {},
   "outputs": [
    {
     "data": {
      "text/plain": [
       "<matplotlib.axes._subplots.AxesSubplot at 0x1c23402c50>"
      ]
     },
     "execution_count": 27,
     "metadata": {},
     "output_type": "execute_result"
    },
    {
     "data": {
      "image/png": "[encoded data removed]",
      "text/plain": [
       "<Figure size 432x288 with 1 Axes>"
      ]
     },
     "metadata": {
      "needs_background": "light"
     },
     "output_type": "display_data"
    }
   ],
   "source": [
    "sns.distplot(a=antigen_freq, kde=False)"
   ]
  },
  {
   "cell_type": "code",
   "execution_count": 28,
   "metadata": {
    "scrolled": true
   },
   "outputs": [
    {
     "data": {
      "text/plain": [
       "1       11\n",
       "2        4\n",
       "3        3\n",
       "4        1\n",
       "6        1\n",
       "7        1\n",
       "10       2\n",
       "11       1\n",
       "12       2\n",
       "14       2\n",
       "15       1\n",
       "19       1\n",
       "26       1\n",
       "43       1\n",
       "61       1\n",
       "79       1\n",
       "82       1\n",
       "85       1\n",
       "286      1\n",
       "738      1\n",
       "941      1\n",
       "1461     1\n",
       "Name: x, dtype: int64"
      ]
     },
     "execution_count": 28,
     "metadata": {},
     "output_type": "execute_result"
    }
   ],
   "source": [
    "pandas.DataFrame({\"x\": antigen_freq})[\"x\"].value_counts().sort_index()"
   ]
  },
  {
   "cell_type": "code",
   "execution_count": 29,
   "metadata": {},
   "outputs": [
    {
     "data": {
      "image/png": "[encoded data removed]",
      "text/plain": [
       "<Figure size 468x360 with 1 Axes>"
      ]
     },
     "metadata": {
      "needs_background": "light"
     },
     "output_type": "display_data"
    }
   ],
   "source": [
    "fig, axs = plt.subplots(1, 1, figsize=(6.5, 5))\n",
    "sns.distplot(\n",
    "    a=antigen_freq,\n",
    "    hist=False, kde=True,\n",
    "    kde_kws=dict(cumulative=True),\n",
    "    ax=axs\n",
    ")\n",
    "axs.set_xscale('log')\n",
    "axs.set_xlabel('counts')\n",
    "axs.set_ylabel('ECDF')\n",
    "fig.tight_layout() \n",
    "plt.savefig(figir+\"supp_4_c.pdf\")\n",
    "plt.show()"
   ]
  },
  {
   "cell_type": "markdown",
   "metadata": {},
   "source": [
    "# Explore overlap to IEDB"
   ]
  },
  {
   "cell_type": "code",
   "execution_count": 30,
   "metadata": {},
   "outputs": [
    {
     "name": "stderr",
     "output_type": "stream",
     "text": [
      "/Users/david.fischer/miniconda3/lib/python3.6/site-packages/IPython/core/interactiveshell.py:3049: DtypeWarning: Columns (10,12,15,16,17,19,20,21,22,23,24,29,30,35,36,50,51,53,58,59,64,65) have mixed types. Specify dtype option on import or set low_memory=False.\n",
      "  interactivity=interactivity, compiler=compiler, result=result)\n"
     ]
    }
   ],
   "source": [
    "iedb = pandas.read_csv(datadir+\"tcell_receptor_table_export_1558607498.csv\").fillna(value=\"None\")\n",
    "iedb_trb = iedb[\"Chain 2 CDR3 Curated\"].values\n",
    "iedb_antigen = iedb[\"Description\"].values\n",
    "idx_to_keep = np.where([x != \"None\" for x in iedb_trb])[0]\n",
    "iedb_trb = iedb_trb[idx_to_keep]\n",
    "iedb_antigen = iedb_antigen[idx_to_keep]"
   ]
  },
  {
   "cell_type": "markdown",
   "metadata": {},
   "source": [
    "## Antigens"
   ]
  },
  {
   "cell_type": "code",
   "execution_count": 31,
   "metadata": {},
   "outputs": [],
   "source": [
    "iedb_antigens_unique = np.unique(iedb_antigen)\n",
    "vdjdb_antigens_unique = np.unique(vdjdb_antigen)"
   ]
  },
  {
   "cell_type": "code",
   "execution_count": 32,
   "metadata": {},
   "outputs": [
    {
     "name": "stdout",
     "output_type": "stream",
     "text": [
      "Number of antigens from IEDB in VDJdb: 24 out of 71\n",
      "Number of antigens from VDJdb in IEDB: 24 out of 40\n"
     ]
    }
   ],
   "source": [
    "print(\"Number of antigens from IEDB in VDJdb: %i out of %i\" % \n",
    "      (len(set(iedb_antigens_unique).intersection(set(vdjdb_antigens_unique))), len(iedb_antigens_unique)))\n",
    "print(\"Number of antigens from VDJdb in IEDB: %i out of %i\" % \n",
    "      (len(set(iedb_antigens_unique).intersection(set(vdjdb_antigens_unique))), len(vdjdb_antigens_unique)))"
   ]
  },
  {
   "cell_type": "code",
   "execution_count": 33,
   "metadata": {},
   "outputs": [
    {
     "name": "stdout",
     "output_type": "stream",
     "text": [
      "Size of VDJdb without overlapping antigens: 116 out of 3964\n"
     ]
    }
   ],
   "source": [
    "print(\"Size of VDJdb without overlapping antigens: %i out of %i\" % \n",
    "      (np.sum([x in set(vdjdb_antigens_unique) - set (iedb_antigens_unique) for x in vdjdb_antigen]), \n",
    "      len(vdjdb_antigen)))"
   ]
  },
  {
   "cell_type": "markdown",
   "metadata": {},
   "source": [
    "## TCRs"
   ]
  },
  {
   "cell_type": "code",
   "execution_count": 34,
   "metadata": {},
   "outputs": [],
   "source": [
    "iedb_trb_unique = np.unique(iedb_trb)\n",
    "vdjdb_trb_unique = np.unique(vdjdb_trb)"
   ]
  },
  {
   "cell_type": "code",
   "execution_count": 35,
   "metadata": {},
   "outputs": [
    {
     "name": "stdout",
     "output_type": "stream",
     "text": [
      "Number of TCRs from IEDB in VDJdb: 1314 out of 10853\n",
      "Number of TCRs from VDJdb in IEDB: 1314 out of 2812\n"
     ]
    }
   ],
   "source": [
    "print(\"Number of TCRs from IEDB in VDJdb: %i out of %i\" % \n",
    "      (len(set(iedb_trb_unique).intersection(set(vdjdb_trb_unique))), len(iedb_trb_unique)))\n",
    "print(\"Number of TCRs from VDJdb in IEDB: %i out of %i\" % \n",
    "      (len(set(iedb_trb_unique).intersection(set(vdjdb_trb_unique))), len(vdjdb_trb_unique)))"
   ]
  },
  {
   "cell_type": "code",
   "execution_count": 36,
   "metadata": {},
   "outputs": [
    {
     "name": "stdout",
     "output_type": "stream",
     "text": [
      "Size of VDJdb without overlapping TCRs: 1831 out of 3964\n"
     ]
    }
   ],
   "source": [
    "print(\"Size of VDJdb without overlapping TCRs: %i out of %i\" % \n",
    "      (np.sum([x in set(vdjdb_trb_unique) - set (iedb_trb_unique) for x in vdjdb_trb]), \n",
    "      len(vdjdb_trb)))"
   ]
  },
  {
   "cell_type": "markdown",
   "metadata": {},
   "source": [
    "## Antigens and TCRs"
   ]
  },
  {
   "cell_type": "code",
   "execution_count": 37,
   "metadata": {},
   "outputs": [
    {
     "name": "stdout",
     "output_type": "stream",
     "text": [
      "Size of VDJdb without overlapping TCRs and antigens: 0 out of 3964\n"
     ]
    }
   ],
   "source": [
    "print(\"Size of VDJdb without overlapping TCRs and antigens: %i out of %i\" % \n",
    "      (np.sum([x in set(vdjdb_antigens_unique) - set (iedb_antigens_unique) and\n",
    "               x in set(vdjdb_trb_unique) - set (iedb_trb_unique) \n",
    "               for x in vdjdb_trb]), \n",
    "      len(vdjdb_trb)))"
   ]
  }
 ],
 "metadata": {
  "kernelspec": {
   "display_name": "Python 3",
   "language": "python",
   "name": "python3"
  },
  "language_info": {
   "codemirror_mode": {
    "name": "ipython",
    "version": 3
   },
   "file_extension": ".py",
   "mimetype": "text/x-python",
   "name": "python",
   "nbconvert_exporter": "python",
   "pygments_lexer": "ipython3",
   "version": "3.8.8"
  },
  "toc": {
   "base_numbering": 1,
   "nav_menu": {},
   "number_sections": true,
   "sideBar": true,
   "skip_h1_title": false,
   "title_cell": "Table of Contents",
   "title_sidebar": "Contents",
   "toc_cell": false,
   "toc_position": {
    "height": "calc(100% - 180px)",
    "left": "10px",
    "top": "150px",
    "width": "265px"
   },
   "toc_section_display": true,
   "toc_window_display": true
  }
 },
 "nbformat": 4,
 "nbformat_minor": 2
}
