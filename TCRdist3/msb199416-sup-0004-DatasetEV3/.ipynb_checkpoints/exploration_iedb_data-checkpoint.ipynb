{
 "cells": [
  {
   "cell_type": "code",
   "execution_count": 1,
   "metadata": {
    "scrolled": true
   },
   "outputs": [
    {
     "name": "stderr",
     "output_type": "stream",
     "text": [
      "/Users/david.fischer/miniconda3/lib/python3.7/site-packages/scanpy/api/__init__.py:6: FutureWarning: \n",
      "\n",
      "In a future version of Scanpy, `scanpy.api` will be removed.\n",
      "Simply use `import scanpy as sc` and `import scanpy.external as sce` instead.\n",
      "\n",
      "  FutureWarning\n"
     ]
    },
    {
     "name": "stdout",
     "output_type": "stream",
     "text": [
      "Running Scanpy 1.4.4.post1, on 2019-12-04 11:01.\n"
     ]
    }
   ],
   "source": [
    "%load_ext autoreload\n",
    "%autoreload 2\n",
    "\n",
    "import logging\n",
    "import matplotlib.pyplot as plt\n",
    "import numpy as np\n",
    "import os\n",
    "import pandas\n",
    "import pickle\n",
    "import scanpy.api as sc\n",
    "import scipy\n",
    "import seaborn as sns\n",
    "from sklearn import decomposition\n",
    "import time\n",
    "import umap\n",
    "\n",
    "datadir = '.'\n",
    "outdir = '.'\n",
    "figir = '.'\n",
    "\n",
    "sc.logging.print_version_and_date()\n",
    "sc.settings.verbosity = 3"
   ]
  },
  {
   "cell_type": "code",
   "execution_count": 2,
   "metadata": {},
   "outputs": [],
   "source": [
    "import matplotlib.pylab as pylab\n",
    "params = {\n",
    "    'legend.fontsize': 'x-large',\n",
    "    'axes.labelsize': 'x-large',\n",
    "    'axes.titlesize':'x-large',\n",
    "    'xtick.labelsize':'x-large',\n",
    "    'ytick.labelsize':'x-large'\n",
    "}\n",
    "pylab.rcParams.update(params)"
   ]
  },
  {
   "cell_type": "markdown",
   "metadata": {},
   "source": [
    "This notebook contains an overview of the IEDB dataset."
   ]
  },
  {
   "cell_type": "markdown",
   "metadata": {},
   "source": [
    "This notebook creates the panels:\n",
    "    - Fig. 4c"
   ]
  },
  {
   "cell_type": "markdown",
   "metadata": {},
   "source": [
    "# Read data"
   ]
  },
  {
   "cell_type": "markdown",
   "metadata": {},
   "source": [
    "Read observed TCRs:"
   ]
  },
  {
   "cell_type": "code",
   "execution_count": 3,
   "metadata": {
    "scrolled": true
   },
   "outputs": [
    {
     "name": "stderr",
     "output_type": "stream",
     "text": [
      "/Users/david.fischer/miniconda3/lib/python3.7/site-packages/IPython/core/interactiveshell.py:3058: DtypeWarning: Columns (10,12,15,16,17,19,20,21,22,23,24,29,30,35,36,50,51,53,58,59,64,65) have mixed types. Specify dtype option on import or set low_memory=False.\n",
      "  interactivity=interactivity, compiler=compiler, result=result)\n"
     ]
    }
   ],
   "source": [
    "iedb = pandas.read_csv(datadir+\"tcell_receptor_table_export_1558607498.csv\").fillna(value=\"None\")\n",
    "iedb_trb = iedb[\"Chain 2 CDR3 Curated\"].values\n",
    "iedb_antigen = iedb[\"Description\"].values"
   ]
  },
  {
   "cell_type": "markdown",
   "metadata": {},
   "source": [
    "Take out None observations:"
   ]
  },
  {
   "cell_type": "code",
   "execution_count": 4,
   "metadata": {},
   "outputs": [],
   "source": [
    "idx_to_keep = np.where([x != \"None\" and y != \"None\" for x, y in zip(iedb_trb, iedb_antigen)])[0]\n",
    "iedb_trb = iedb_trb[idx_to_keep]\n",
    "iedb_antigen = iedb_antigen[idx_to_keep]"
   ]
  },
  {
   "cell_type": "code",
   "execution_count": 5,
   "metadata": {},
   "outputs": [
    {
     "name": "stdout",
     "output_type": "stream",
     "text": [
      "Number of TRBs in data base: 13478\n"
     ]
    }
   ],
   "source": [
    "print(\"Number of TRBs in data base: %i\" % len(iedb_trb))"
   ]
  },
  {
   "cell_type": "markdown",
   "metadata": {},
   "source": [
    "# Assign TRBs to clonotypes"
   ]
  },
  {
   "cell_type": "markdown",
   "metadata": {},
   "source": [
    "## Explore heterogeneity"
   ]
  },
  {
   "cell_type": "code",
   "execution_count": 6,
   "metadata": {},
   "outputs": [],
   "source": [
    "def format_one_hot(\n",
    "        x: list\n",
    ") -> np.ndarray:\n",
    "    \"\"\"\n",
    "    :param x: Input as list (length observations) of lists with strings of amino acid code of each chain.\n",
    "    :return: 3D tensor [observations, amino acid position, amino acid embedding]\n",
    "        One-hot encoded input.\n",
    "    \"\"\"\n",
    "    aa_list = [\n",
    "        'C', 'D', 'S', 'Q', 'K',\n",
    "        'I', 'P', 'T', 'F', 'N',\n",
    "        'G', 'H', 'L', 'R', 'W',\n",
    "        'A', 'V', 'E', 'Y', 'M',\n",
    "        '_'\n",
    "    ]\n",
    "    idx_list = np.arange(0, len(aa_list))\n",
    "    dict_aa = dict(zip(aa_list, idx_list))\n",
    "    dim_aa = len(dict_aa)\n",
    "    \n",
    "    # Remove sequences that contain amino acids that are not in list.\n",
    "    keys_not_accounted_for = []\n",
    "    x_clean = []\n",
    "    for xx in x:\n",
    "        if np.any([aa not in aa_list for aa in xx]):\n",
    "            keys_not_accounted_for.extend([aa for aa in xx if aa not in aa_list])\n",
    "        else:\n",
    "            x_clean.append(xx)\n",
    "    print(np.unique(np.array(keys_not_accounted_for)))\n",
    "    \n",
    "    dim_obs = len(x_clean)\n",
    "    dim_pos = np.max([len(xi) for xi in x_clean])\n",
    "    x_onehot = np.zeros([dim_obs, dim_pos, dim_aa])  # Second last dimension to use conv2d\n",
    "    for i, xi in enumerate(x_clean):\n",
    "        # Strip of empty space.\n",
    "        xi = \"\".join(xi.split(\" \"))\n",
    "        # Write missing string if chain not found.\n",
    "        for k, aa in enumerate(xi):\n",
    "            x_onehot[i, k, dict_aa[aa]] = 1\n",
    "        # Fill remaining positions as None.\n",
    "        for k in np.arange(len(xi), dim_pos):\n",
    "            x_onehot[i, k, dict_aa['_']] = 1\n",
    "\n",
    "    return x_onehot, x_clean, keys_not_accounted_for"
   ]
  },
  {
   "cell_type": "markdown",
   "metadata": {},
   "source": [
    "Compute amino-acid embedding:"
   ]
  },
  {
   "cell_type": "code",
   "execution_count": 7,
   "metadata": {},
   "outputs": [
    {
     "name": "stdout",
     "output_type": "stream",
     "text": [
      "[' ' '#' '*' '1' '7' 'B' 'O' 'X' 'l']\n"
     ]
    }
   ],
   "source": [
    "iedb_trb_oh, iedb_trb_clean, keys_not_accounted_for = format_one_hot(iedb_trb)"
   ]
  },
  {
   "cell_type": "code",
   "execution_count": 8,
   "metadata": {},
   "outputs": [
    {
     "name": "stdout",
     "output_type": "stream",
     "text": [
      "13336 out of 13478 TRB observations retained.\n"
     ]
    }
   ],
   "source": [
    "print(\"%i out of %i TRB observations retained.\" % (iedb_trb_oh.shape[0], len(iedb_trb)))"
   ]
  },
  {
   "cell_type": "markdown",
   "metadata": {},
   "source": [
    "Compute all-to-all manhatten distance matrix:"
   ]
  },
  {
   "cell_type": "code",
   "execution_count": 9,
   "metadata": {},
   "outputs": [],
   "source": [
    "iedb_trb_oh_dist = (iedb_trb_oh-0.5)*2  # -1, 1 encoding\n",
    "trb_dist = (iedb_trb_oh.shape[1]*iedb_trb_oh.shape[2] - np.matmul(\n",
    "    np.reshape(iedb_trb_oh_dist, newshape=[iedb_trb_oh_dist.shape[0], -1]),\n",
    "    np.reshape(iedb_trb_oh_dist, newshape=[iedb_trb_oh_dist.shape[0], -1]).T,\n",
    "))/(2*2)\n",
    "trb_dist[(np.arange(0, trb_dist.shape[0]), np.arange(0, trb_dist.shape[0]))] = np.nan"
   ]
  },
  {
   "cell_type": "code",
   "execution_count": 10,
   "metadata": {
    "scrolled": true
   },
   "outputs": [
    {
     "data": {
      "text/plain": [
       "<matplotlib.axes._subplots.AxesSubplot at 0x1c2404e190>"
      ]
     },
     "execution_count": 10,
     "metadata": {},
     "output_type": "execute_result"
    },
    {
     "data": {
      "image/png": "[encoded data removed]",
      "text/plain": [
       "<Figure size 432x288 with 1 Axes>"
      ]
     },
     "metadata": {
      "needs_background": "light"
     },
     "output_type": "display_data"
    }
   ],
   "source": [
    "sns.distplot(\n",
    "    trb_dist[np.triu_indices(trb_dist.shape[0], k=1)], \n",
    "    kde=False\n",
    ")"
   ]
  },
  {
   "cell_type": "markdown",
   "metadata": {},
   "source": [
    "Look at distance to closest neighbours:"
   ]
  },
  {
   "cell_type": "code",
   "execution_count": 11,
   "metadata": {},
   "outputs": [
    {
     "data": {
      "text/plain": [
       "<matplotlib.axes._subplots.AxesSubplot at 0x1c24172490>"
      ]
     },
     "execution_count": 11,
     "metadata": {},
     "output_type": "execute_result"
    },
    {
     "data": {
      "image/png": "[encoded data removed]",
      "text/plain": [
       "<Figure size 432x288 with 1 Axes>"
      ]
     },
     "metadata": {
      "needs_background": "light"
     },
     "output_type": "display_data"
    }
   ],
   "source": [
    "sns_data_nn = pandas.DataFrame({\"neighbour0\": np.nanmin(trb_dist, axis=1)})\n",
    "sns.distplot(a=sns_data_nn[\"neighbour0\"].values, kde=False)"
   ]
  },
  {
   "cell_type": "code",
   "execution_count": 12,
   "metadata": {
    "scrolled": true
   },
   "outputs": [
    {
     "data": {
      "text/plain": [
       "0.0     3261\n",
       "1.0     2467\n",
       "2.0     2329\n",
       "3.0     2325\n",
       "4.0     1480\n",
       "5.0      762\n",
       "6.0      347\n",
       "7.0      173\n",
       "8.0       89\n",
       "9.0       35\n",
       "10.0      27\n",
       "11.0      12\n",
       "13.0      10\n",
       "12.0       7\n",
       "14.0       6\n",
       "16.0       3\n",
       "15.0       2\n",
       "27.0       1\n",
       "Name: neighbour0, dtype: int64"
      ]
     },
     "execution_count": 12,
     "metadata": {},
     "output_type": "execute_result"
    }
   ],
   "source": [
    "sns_data_nn[\"neighbour0\"].value_counts()"
   ]
  },
  {
   "cell_type": "markdown",
   "metadata": {},
   "source": [
    "### Distance metric validation"
   ]
  },
  {
   "cell_type": "markdown",
   "metadata": {},
   "source": [
    "Look at an example case for validation of the steps above:"
   ]
  },
  {
   "cell_type": "code",
   "execution_count": 13,
   "metadata": {},
   "outputs": [
    {
     "name": "stdout",
     "output_type": "stream",
     "text": [
      "CASRPGLMSAQPEQYF\n",
      "CASRPGLMSARPEQYF\n"
     ]
    }
   ],
   "source": [
    "d = 1\n",
    "idx_sample = np.concatenate(np.expand_dims(np.where(trb_dist == d), axis=0), axis=0)\n",
    "print(iedb_trb_clean[idx_sample[0, 0]])\n",
    "print(iedb_trb_clean[idx_sample[1, 0]])"
   ]
  },
  {
   "cell_type": "code",
   "execution_count": 14,
   "metadata": {},
   "outputs": [
    {
     "name": "stdout",
     "output_type": "stream",
     "text": [
      "CASRPGLAGGRPEQYF\n",
      "CASRPGLMSARPEQYF\n"
     ]
    }
   ],
   "source": [
    "d = 3\n",
    "idx_sample = np.concatenate(np.expand_dims(np.where(trb_dist == d), axis=0), axis=0)\n",
    "print(iedb_trb_clean[idx_sample[0, 0]])\n",
    "print(iedb_trb_clean[idx_sample[1, 0]])"
   ]
  },
  {
   "cell_type": "markdown",
   "metadata": {},
   "source": [
    "## Define clonotypes"
   ]
  },
  {
   "cell_type": "markdown",
   "metadata": {},
   "source": [
    "Define clonotypes based on perfect sequence match."
   ]
  },
  {
   "cell_type": "code",
   "execution_count": 15,
   "metadata": {},
   "outputs": [],
   "source": [
    "clonotypes = np.zeros([trb_dist.shape[0]], int)\n",
    "clonotype_counter = 0\n",
    "for i in range(trb_dist.shape[0]):\n",
    "    matches = np.where(trb_dist[i, :i] == 0)[0]\n",
    "    if len(matches) > 0:\n",
    "        clonotypes[i] = clonotypes[matches[0]]\n",
    "    else:\n",
    "        clonotypes[i] = clonotype_counter\n",
    "        clonotype_counter = clonotype_counter + 1"
   ]
  },
  {
   "cell_type": "markdown",
   "metadata": {},
   "source": [
    "### Explore size of clonotypes"
   ]
  },
  {
   "cell_type": "markdown",
   "metadata": {},
   "source": [
    "Compute frequency of each clonotype:"
   ]
  },
  {
   "cell_type": "code",
   "execution_count": 16,
   "metadata": {},
   "outputs": [],
   "source": [
    "clonotype_freq = pandas.DataFrame({\"x\": clonotypes})[\"x\"].value_counts().values"
   ]
  },
  {
   "cell_type": "code",
   "execution_count": 17,
   "metadata": {
    "scrolled": false
   },
   "outputs": [
    {
     "data": {
      "text/plain": [
       "<matplotlib.axes._subplots.AxesSubplot at 0x117f7ca90>"
      ]
     },
     "execution_count": 17,
     "metadata": {},
     "output_type": "execute_result"
    },
    {
     "data": {
      "image/png": "[encoded data removed]",
      "text/plain": [
       "<Figure size 432x288 with 1 Axes>"
      ]
     },
     "metadata": {
      "needs_background": "light"
     },
     "output_type": "display_data"
    }
   ],
   "source": [
    "sns.distplot(a=clonotype_freq, kde=False)"
   ]
  },
  {
   "cell_type": "markdown",
   "metadata": {},
   "source": [
    "Compute the frequency table of clonotype frequencies (information corresponding to the histogram above):"
   ]
  },
  {
   "cell_type": "code",
   "execution_count": 18,
   "metadata": {
    "scrolled": true
   },
   "outputs": [
    {
     "data": {
      "text/plain": [
       "1      10075\n",
       "2        353\n",
       "3         91\n",
       "4         67\n",
       "5         26\n",
       "6         22\n",
       "7         24\n",
       "8          6\n",
       "9          6\n",
       "10         7\n",
       "11         4\n",
       "12         1\n",
       "13         3\n",
       "14         8\n",
       "15         4\n",
       "16         1\n",
       "17         4\n",
       "18         3\n",
       "19         2\n",
       "20         1\n",
       "21         2\n",
       "22         5\n",
       "28         1\n",
       "36         1\n",
       "40         1\n",
       "42         1\n",
       "51         1\n",
       "53         1\n",
       "59         1\n",
       "60         1\n",
       "112        1\n",
       "134        1\n",
       "182        1\n",
       "Name: x, dtype: int64"
      ]
     },
     "execution_count": 18,
     "metadata": {},
     "output_type": "execute_result"
    }
   ],
   "source": [
    "pandas.DataFrame({\"x\": clonotype_freq})[\"x\"].value_counts().sort_index()"
   ]
  },
  {
   "cell_type": "code",
   "execution_count": 19,
   "metadata": {},
   "outputs": [
    {
     "name": "stdout",
     "output_type": "stream",
     "text": [
      "total number of clonotypes: 10726\n"
     ]
    }
   ],
   "source": [
    "print(\"total number of clonotypes: %i\" % len(np.unique(clonotypes)))"
   ]
  },
  {
   "cell_type": "markdown",
   "metadata": {},
   "source": [
    "### Data set size if clonotypes are downsampled"
   ]
  },
  {
   "cell_type": "code",
   "execution_count": 20,
   "metadata": {},
   "outputs": [],
   "source": [
    "def downsample_clono(assignments, max_per_clono):\n",
    "    clonotypes = np.unique(assignments)\n",
    "    n_cells = assignments.shape[0]\n",
    "    idx_to_keep = np.concatenate([np.random.choice(\n",
    "        a=np.arange(0, n_cells)[assignments == x],\n",
    "        size=np.min([max_per_clono, np.sum(assignments == x)]),\n",
    "        replace=False\n",
    "    ) for x in np.unique(assignments)], axis=0)\n",
    "    print(\"data set size downsampled to 10 cells per clonotypes reduces from %i to %i\" % (len(assignments), len(idx_to_keep)))\n",
    "    return len(assignments), len(idx_to_keep)"
   ]
  },
  {
   "cell_type": "code",
   "execution_count": 21,
   "metadata": {},
   "outputs": [
    {
     "name": "stdout",
     "output_type": "stream",
     "text": [
      "data set size downsampled to 10 cells per clonotypes reduces from 13336 to 12414\n"
     ]
    }
   ],
   "source": [
    "_ = downsample_clono(assignments=clonotypes, max_per_clono=10)"
   ]
  },
  {
   "cell_type": "markdown",
   "metadata": {},
   "source": [
    "# Explore antigen heterogeneity"
   ]
  },
  {
   "cell_type": "markdown",
   "metadata": {},
   "source": [
    "Number of unique antigens:"
   ]
  },
  {
   "cell_type": "code",
   "execution_count": 29,
   "metadata": {},
   "outputs": [
    {
     "name": "stdout",
     "output_type": "stream",
     "text": [
      "71\n"
     ]
    }
   ],
   "source": [
    "print(len(np.unique(iedb_antigen)))"
   ]
  },
  {
   "cell_type": "code",
   "execution_count": 22,
   "metadata": {},
   "outputs": [],
   "source": [
    "antigen_freq = pandas.Series(iedb_antigen).value_counts().values\n",
    "tcr_by_antigen_freq = pandas.DataFrame({\"antigen\": iedb_antigen, \"tcr\": iedb_trb}).groupby(\"antigen\")[\"tcr\"].nunique().values"
   ]
  },
  {
   "cell_type": "code",
   "execution_count": 23,
   "metadata": {},
   "outputs": [
    {
     "data": {
      "text/plain": [
       "<matplotlib.axes._subplots.AxesSubplot at 0x1c23a9fa90>"
      ]
     },
     "execution_count": 23,
     "metadata": {},
     "output_type": "execute_result"
    },
    {
     "data": {
      "image/png": "[encoded data removed]",
      "text/plain": [
       "<Figure size 432x288 with 1 Axes>"
      ]
     },
     "metadata": {
      "needs_background": "light"
     },
     "output_type": "display_data"
    }
   ],
   "source": [
    "sns.distplot(a=tcr_by_antigen_freq, kde=False)"
   ]
  },
  {
   "cell_type": "code",
   "execution_count": 24,
   "metadata": {
    "scrolled": true
   },
   "outputs": [
    {
     "data": {
      "text/plain": [
       "1       34\n",
       "2        9\n",
       "3        2\n",
       "4        5\n",
       "5        3\n",
       "6        1\n",
       "10       2\n",
       "11       1\n",
       "12       1\n",
       "19       2\n",
       "23       1\n",
       "51       1\n",
       "56       1\n",
       "61       1\n",
       "84       1\n",
       "89       1\n",
       "96       1\n",
       "261      1\n",
       "850      1\n",
       "4366     1\n",
       "4812     1\n",
       "dtype: int64"
      ]
     },
     "execution_count": 24,
     "metadata": {},
     "output_type": "execute_result"
    }
   ],
   "source": [
    "pandas.Series(tcr_by_antigen_freq).value_counts().sort_index()"
   ]
  },
  {
   "cell_type": "code",
   "execution_count": 25,
   "metadata": {},
   "outputs": [
    {
     "name": "stdout",
     "output_type": "stream",
     "text": [
      "['AMFWSVPTV', 'CINGVCWTV', 'ELAGIGILTV', 'FLYNLLTRV', 'GILGFVFTL', 'GLCTLVAML', 'KLSALGINAV', 'LLWNGPMAV', 'NLVPMVATV', 'VLFGLGFAI', 'YVLDHLIVV']\n"
     ]
    }
   ],
   "source": [
    "tcr_by_antigen_freq_table = pandas.DataFrame({\"antigen\": iedb_antigen, \"tcr\": iedb_trb}).groupby(\"antigen\")[\"tcr\"].nunique()\n",
    "print([x for x in tcr_by_antigen_freq_table[tcr_by_antigen_freq_table > 20].index])"
   ]
  },
  {
   "cell_type": "code",
   "execution_count": 26,
   "metadata": {},
   "outputs": [
    {
     "data": {
      "image/png": "[encoded data removed]",
      "text/plain": [
       "<Figure size 468x360 with 1 Axes>"
      ]
     },
     "metadata": {
      "needs_background": "light"
     },
     "output_type": "display_data"
    }
   ],
   "source": [
    "fig, axs = plt.subplots(1, 1, figsize=(6.5, 5))\n",
    "sns.distplot(\n",
    "    a=antigen_freq,\n",
    "    hist=False, kde=True, kde_kws=dict(cumulative=True),\n",
    "    ax=axs\n",
    ")\n",
    "axs.set_xscale('log')\n",
    "axs.set_xlabel('counts')\n",
    "axs.set_ylabel('ECDF')\n",
    "fig.tight_layout() \n",
    "plt.savefig(figir+\"supp_4_b.pdf\")\n",
    "plt.show()"
   ]
  }
 ],
 "metadata": {
  "kernelspec": {
   "display_name": "Python 3",
   "language": "python",
   "name": "python3"
  },
  "language_info": {
   "codemirror_mode": {
    "name": "ipython",
    "version": 3
   },
   "file_extension": ".py",
   "mimetype": "text/x-python",
   "name": "python",
   "nbconvert_exporter": "python",
   "pygments_lexer": "ipython3",
   "version": "3.7.4"
  },
  "toc": {
   "base_numbering": 1,
   "nav_menu": {},
   "number_sections": true,
   "sideBar": true,
   "skip_h1_title": false,
   "title_cell": "Table of Contents",
   "title_sidebar": "Contents",
   "toc_cell": false,
   "toc_position": {
    "height": "calc(100% - 180px)",
    "left": "10px",
    "top": "150px",
    "width": "265px"
   },
   "toc_section_display": true,
   "toc_window_display": true
  }
 },
 "nbformat": 4,
 "nbformat_minor": 2
}
