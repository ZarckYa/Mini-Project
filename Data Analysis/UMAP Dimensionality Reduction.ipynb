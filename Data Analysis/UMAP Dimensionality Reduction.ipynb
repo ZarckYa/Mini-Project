{
 "cells": [
  {
   "cell_type": "code",
   "execution_count": 8,
   "id": "248732fe",
   "metadata": {},
   "outputs": [],
   "source": [
    "import pandas as pd\n",
    "import umap\n",
    "import numpy\n",
    "import matplotlib.pyplot as plt\n",
    "from tcrdist.repertoire import TCRrep"
   ]
  },
  {
   "cell_type": "code",
   "execution_count": 9,
   "id": "020c8665",
   "metadata": {},
   "outputs": [
    {
     "data": {
      "text/html": [
       "<div>\n",
       "<style scoped>\n",
       "    .dataframe tbody tr th:only-of-type {\n",
       "        vertical-align: middle;\n",
       "    }\n",
       "\n",
       "    .dataframe tbody tr th {\n",
       "        vertical-align: top;\n",
       "    }\n",
       "\n",
       "    .dataframe thead th {\n",
       "        text-align: right;\n",
       "    }\n",
       "</style>\n",
       "<table border=\"1\" class=\"dataframe\">\n",
       "  <thead>\n",
       "    <tr style=\"text-align: right;\">\n",
       "      <th></th>\n",
       "      <th>gene</th>\n",
       "      <th>cdr3_a_aa</th>\n",
       "      <th>v_a_gene</th>\n",
       "      <th>j_a_gene</th>\n",
       "      <th>species</th>\n",
       "      <th>antigen.epitope</th>\n",
       "      <th>antigen.species</th>\n",
       "      <th>count</th>\n",
       "    </tr>\n",
       "  </thead>\n",
       "  <tbody>\n",
       "    <tr>\n",
       "      <th>0</th>\n",
       "      <td>TRA</td>\n",
       "      <td>CIVRAPGRADMRF</td>\n",
       "      <td>TRAV26-1*01</td>\n",
       "      <td>TRAJ43*01</td>\n",
       "      <td>HomoSapiens</td>\n",
       "      <td>FLKEKGGL</td>\n",
       "      <td>HIV-1</td>\n",
       "      <td>1</td>\n",
       "    </tr>\n",
       "    <tr>\n",
       "      <th>1</th>\n",
       "      <td>TRA</td>\n",
       "      <td>CAVPSGAGSYQLTF</td>\n",
       "      <td>TRAV20*01</td>\n",
       "      <td>TRAJ28*01</td>\n",
       "      <td>HomoSapiens</td>\n",
       "      <td>FLKEKGGL</td>\n",
       "      <td>HIV-1</td>\n",
       "      <td>1</td>\n",
       "    </tr>\n",
       "    <tr>\n",
       "      <th>2</th>\n",
       "      <td>TRA</td>\n",
       "      <td>CAVKASGSRLT</td>\n",
       "      <td>TRAV2*01</td>\n",
       "      <td>NaN</td>\n",
       "      <td>HomoSapiens</td>\n",
       "      <td>FLKEKGGL</td>\n",
       "      <td>HIV-1</td>\n",
       "      <td>1</td>\n",
       "    </tr>\n",
       "    <tr>\n",
       "      <th>3</th>\n",
       "      <td>TRA</td>\n",
       "      <td>CAYRPPGTYKYIF</td>\n",
       "      <td>TRAV38-2/DV8*01</td>\n",
       "      <td>TRAJ40*01</td>\n",
       "      <td>HomoSapiens</td>\n",
       "      <td>FLKEKGGL</td>\n",
       "      <td>HIV-1</td>\n",
       "      <td>1</td>\n",
       "    </tr>\n",
       "    <tr>\n",
       "      <th>4</th>\n",
       "      <td>TRA</td>\n",
       "      <td>CIVRAPGRADMRF</td>\n",
       "      <td>TRAV26-1*01</td>\n",
       "      <td>TRAJ43*01</td>\n",
       "      <td>HomoSapiens</td>\n",
       "      <td>FLKEQGGL</td>\n",
       "      <td>HIV-1</td>\n",
       "      <td>1</td>\n",
       "    </tr>\n",
       "    <tr>\n",
       "      <th>...</th>\n",
       "      <td>...</td>\n",
       "      <td>...</td>\n",
       "      <td>...</td>\n",
       "      <td>...</td>\n",
       "      <td>...</td>\n",
       "      <td>...</td>\n",
       "      <td>...</td>\n",
       "      <td>...</td>\n",
       "    </tr>\n",
       "    <tr>\n",
       "      <th>34183</th>\n",
       "      <td>TRA</td>\n",
       "      <td>CAVYNQGGKLIF</td>\n",
       "      <td>TRAV8-1*01</td>\n",
       "      <td>TRAJ23*01</td>\n",
       "      <td>HomoSapiens</td>\n",
       "      <td>QYIKWPWYI</td>\n",
       "      <td>SARS-CoV-2</td>\n",
       "      <td>1</td>\n",
       "    </tr>\n",
       "    <tr>\n",
       "      <th>34184</th>\n",
       "      <td>TRA</td>\n",
       "      <td>CAVRALYNFNKFYF</td>\n",
       "      <td>TRAV3*01</td>\n",
       "      <td>TRAJ21*01</td>\n",
       "      <td>HomoSapiens</td>\n",
       "      <td>QYIKWPWYI</td>\n",
       "      <td>SARS-CoV-2</td>\n",
       "      <td>1</td>\n",
       "    </tr>\n",
       "    <tr>\n",
       "      <th>34185</th>\n",
       "      <td>TRA</td>\n",
       "      <td>CAVESYNTDKLIF</td>\n",
       "      <td>TRAV41*01</td>\n",
       "      <td>TRAJ34*01</td>\n",
       "      <td>HomoSapiens</td>\n",
       "      <td>QYIKWPWYI</td>\n",
       "      <td>SARS-CoV-2</td>\n",
       "      <td>1</td>\n",
       "    </tr>\n",
       "    <tr>\n",
       "      <th>34186</th>\n",
       "      <td>TRA</td>\n",
       "      <td>CLVGENSGGFKTIF</td>\n",
       "      <td>TRAV4*01</td>\n",
       "      <td>TRAJ9*01</td>\n",
       "      <td>HomoSapiens</td>\n",
       "      <td>QYIKWPWYI</td>\n",
       "      <td>SARS-CoV-2</td>\n",
       "      <td>1</td>\n",
       "    </tr>\n",
       "    <tr>\n",
       "      <th>34187</th>\n",
       "      <td>TRA</td>\n",
       "      <td>CAMREGQGNAGNMLTF</td>\n",
       "      <td>TRAV14/DV4*01</td>\n",
       "      <td>TRAJ39*01</td>\n",
       "      <td>HomoSapiens</td>\n",
       "      <td>QYIKWPWYI</td>\n",
       "      <td>SARS-CoV-2</td>\n",
       "      <td>1</td>\n",
       "    </tr>\n",
       "  </tbody>\n",
       "</table>\n",
       "<p>34188 rows × 8 columns</p>\n",
       "</div>"
      ],
      "text/plain": [
       "      gene         cdr3_a_aa         v_a_gene   j_a_gene      species  \\\n",
       "0      TRA     CIVRAPGRADMRF      TRAV26-1*01  TRAJ43*01  HomoSapiens   \n",
       "1      TRA    CAVPSGAGSYQLTF        TRAV20*01  TRAJ28*01  HomoSapiens   \n",
       "2      TRA       CAVKASGSRLT         TRAV2*01        NaN  HomoSapiens   \n",
       "3      TRA     CAYRPPGTYKYIF  TRAV38-2/DV8*01  TRAJ40*01  HomoSapiens   \n",
       "4      TRA     CIVRAPGRADMRF      TRAV26-1*01  TRAJ43*01  HomoSapiens   \n",
       "...    ...               ...              ...        ...          ...   \n",
       "34183  TRA      CAVYNQGGKLIF       TRAV8-1*01  TRAJ23*01  HomoSapiens   \n",
       "34184  TRA    CAVRALYNFNKFYF         TRAV3*01  TRAJ21*01  HomoSapiens   \n",
       "34185  TRA     CAVESYNTDKLIF        TRAV41*01  TRAJ34*01  HomoSapiens   \n",
       "34186  TRA    CLVGENSGGFKTIF         TRAV4*01   TRAJ9*01  HomoSapiens   \n",
       "34187  TRA  CAMREGQGNAGNMLTF    TRAV14/DV4*01  TRAJ39*01  HomoSapiens   \n",
       "\n",
       "      antigen.epitope antigen.species  count  \n",
       "0            FLKEKGGL           HIV-1      1  \n",
       "1            FLKEKGGL           HIV-1      1  \n",
       "2            FLKEKGGL           HIV-1      1  \n",
       "3            FLKEKGGL           HIV-1      1  \n",
       "4            FLKEQGGL           HIV-1      1  \n",
       "...               ...             ...    ...  \n",
       "34183       QYIKWPWYI      SARS-CoV-2      1  \n",
       "34184       QYIKWPWYI      SARS-CoV-2      1  \n",
       "34185       QYIKWPWYI      SARS-CoV-2      1  \n",
       "34186       QYIKWPWYI      SARS-CoV-2      1  \n",
       "34187       QYIKWPWYI      SARS-CoV-2      1  \n",
       "\n",
       "[34188 rows x 8 columns]"
      ]
     },
     "metadata": {},
     "output_type": "display_data"
    }
   ],
   "source": [
    "VDJdb_TRA_human_fix = pd.read_csv('VDJdb_TRA_human_fix.csv')\n",
    "display(VDJdb_TRA_human_fix)\n",
    "\n",
    "df_alpha = VDJdb_TRA_human_fix[0:2000]\n",
    "tr_alpha = TCRrep(cell_df = df_alpha,\n",
    "            organism = 'human',\n",
    "            chains = ['alpha'],\n",
    "            deduplicate = False,\n",
    "            db_file = \"alphabeta_gammadelta_db.tsv\",\n",
    "            compute_distances=False)"
   ]
  },
  {
   "cell_type": "code",
   "execution_count": 10,
   "id": "5d4fbc24",
   "metadata": {},
   "outputs": [],
   "source": [
    "# Compute alpha chain distance matrix \n",
    "tr_alpha.compute_distances()"
   ]
  },
  {
   "cell_type": "code",
   "execution_count": 11,
   "id": "a59361b0",
   "metadata": {},
   "outputs": [
    {
     "name": "stdout",
     "output_type": "stream",
     "text": [
      "[[  0 138 125 ... 158 161 195]\n",
      " [138   0 138 ... 137 125 198]\n",
      " [125 138   0 ... 154 174 201]\n",
      " ...\n",
      " [158 137 154 ...   0 154 156]\n",
      " [161 125 174 ... 154   0 183]\n",
      " [195 198 201 ... 156 183   0]]\n"
     ]
    }
   ],
   "source": [
    "# Print distance matrix\n",
    "dist_matrix_alpha = tr_alpha.pw_alpha\n",
    "print(dist_matrix_alpha)"
   ]
  },
  {
   "cell_type": "code",
   "execution_count": 14,
   "id": "7291c0d1",
   "metadata": {},
   "outputs": [
    {
     "name": "stdout",
     "output_type": "stream",
     "text": [
      "[ 7  7  7 ... 13 13 13]\n",
      "[[ 8.891103  13.879377 ]\n",
      " [ 5.665461  10.698949 ]\n",
      " [10.433686  13.492199 ]\n",
      " ...\n",
      " [ 2.1411352  8.376977 ]\n",
      " [ 7.23359   12.790604 ]\n",
      " [ 7.9133644 10.189412 ]]\n"
     ]
    },
    {
     "data": {
      "text/plain": [
       "<matplotlib.collections.PathCollection at 0x176dd1d6af0>"
      ]
     },
     "execution_count": 14,
     "metadata": {},
     "output_type": "execute_result"
    },
    {
     "data": {
      "image/png": "[encoded data removed]",
      "text/plain": [
       "<Figure size 432x288 with 1 Axes>"
      ]
     },
     "metadata": {
      "needs_background": "light"
     },
     "output_type": "display_data"
    }
   ],
   "source": [
    "umap_TRA = umap.UMAP(random_state=42, n_components=2)\n",
    "\n",
    "VDJ_test = VDJdb_TRA_human_fix[0:2000]\n",
    "TRA_epitope_label = VDJ_test['antigen.species']\n",
    "TRA_epitope_label = pd.Categorical(TRA_epitope_label).codes\n",
    "print(TRA_epitope_label)\n",
    "\n",
    "TRA_umap_fit = umap_TRA.fit_transform(dist_matrix_alpha)\n",
    "print(TRA_umap_fit)\n",
    "#fig = plt.figure()\n",
    "#sub = fig.add_subplot(111)\n",
    "#sub.scatter(TRA_umap_fit[0], TRA_umap_fit[1], c = TRA_epitope_lable)\n",
    "plt.scatter(TRA_umap_fit[:,0], TRA_umap_fit[:,1], c = TRA_epitope_label)"
   ]
  },
  {
   "cell_type": "code",
   "execution_count": null,
   "id": "8bea2934",
   "metadata": {},
   "outputs": [],
   "source": []
  }
 ],
 "metadata": {
  "kernelspec": {
   "display_name": "Python 3",
   "language": "python",
   "name": "python3"
  },
  "language_info": {
   "codemirror_mode": {
    "name": "ipython",
    "version": 3
   },
   "file_extension": ".py",
   "mimetype": "text/x-python",
   "name": "python",
   "nbconvert_exporter": "python",
   "pygments_lexer": "ipython3",
   "version": "3.8.8"
  }
 },
 "nbformat": 4,
 "nbformat_minor": 5
}
